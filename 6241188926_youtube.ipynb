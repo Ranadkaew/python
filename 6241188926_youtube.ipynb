{
 "cells": [
  {
   "cell_type": "code",
   "execution_count": 43,
   "metadata": {},
   "outputs": [],
   "source": [
    "from datetime import date # เกี่ยวกับวันเดือนปี\n",
    "from datetime import timedelta # กำหนดช่วงห่างของวันเวลา"
   ]
  },
  {
   "cell_type": "code",
   "execution_count": 46,
   "metadata": {},
   "outputs": [
    {
     "name": "stdout",
     "output_type": "stream",
     "text": [
      "Day = Monday\n"
     ]
    }
   ],
   "source": [
    "def weekday_day():\n",
    "    wd = [\n",
    "                'Sunday','Monday', 'Tuesday', 'Wednesday', 'Thursday', 'Friday', 'Saturday'\n",
    "            ]\n",
    "    d = date(2021, 3, 15)\n",
    "    #td = date.today() # today\n",
    "    w = d.weekday() #ส่งค่ากลับมาเป็น 0-6 , 0 = monday 6 = sunday \n",
    "    if w == 6:\n",
    "        w = 0 \n",
    "    else:\n",
    "        w += 1\n",
    "    print(\"Day =\", wd[w])\n",
    "weekday_day()"
   ]
  },
  {
   "cell_type": "code",
   "execution_count": null,
   "metadata": {},
   "outputs": [],
   "source": [
    "d_date = date(2022, 2, 14)\n",
    "#dt = date.today()\n",
    "app_days = int(input('enter your next day >>'))\n",
    "\n",
    "\n",
    "def next_day(d_date:date, app_days:int):\n",
    "    \"\"\"วันทำการที่จะเจอกันในครั้งถัดไปตรงกับ\n",
    "\n",
    "    Args:\n",
    "        d_date (date): วันที่ เดือน ปีที่ต้องการใช้\n",
    "        app_days (int): จำนวนวันที่นัดครั้งถัดไป\n",
    "\n",
    "    Returns:\n",
    "        str: วันทำการครั้งต่อไปตรงกับวันใด\n",
    "    \n",
    "    Examples:\n",
    "    >>> next_day(d_date, app_days)\n",
    "    'Next appointment: Monday 28 February 2022'\n",
    "    \"\"\"\n",
    "    wd = ['Sunday','Monday', 'Tuesday', 'Wednesday', 'Thursday', 'Friday', 'Saturday']\n",
    "    mo = ['January', 'February', 'March', 'April', 'May', 'June', 'July', 'August', 'September', 'October', 'November', 'December']\n",
    "\n",
    "    print(f'Day is: {d_date.day}/ {d_date.month}/{d_date.year}') #วันเวลาแบบสั้น\n",
    "    print(f'Day is: {d_date.day} {mo[d_date.month-1]} {d_date.year}') # วันเวลาแบบยาว\n",
    "    delta = timedelta(days = app_days) # อีก...วัน\n",
    "    next_dt = d_date.__add__(delta)\n",
    "\n",
    "    x = 0\n",
    "    if next_dt.weekday() == 5: # ตรงกับวันเสาร์เลื่อนออกไป 2 วัน\n",
    "        x = 2\n",
    "    elif next_dt.weekday() == 6: # ตรงกับวันอาทิตย์เลื่อนออกไป 1 วัน\n",
    "        x = 1\n",
    "    delta = timedelta(days = x)\n",
    "    next_dt2 = next_dt.__add__(delta)\n",
    "    d = next_dt2.day # วัน\n",
    "    m = next_dt2.month # เดือน\n",
    "    y = next_dt2.year # ปี # พ.ศ. +543\n",
    "\n",
    "    w = 0 if next_dt2.weekday() == 6 else next_dt2.weekday()+ 1\n",
    "    return (f'Next appointment: {wd[w]} {d} {mo[m-1]} {y}')\n",
    "next_day(d_date, app_days)\n"
   ]
  }
 ],
 "metadata": {
  "interpreter": {
   "hash": "22bb53b43b3afb0848b0afa27adb8f2415fb61399be88b9ea69bd0b84fe58c05"
  },
  "kernelspec": {
   "display_name": "Python 3.9.11 ('base')",
   "language": "python",
   "name": "python3"
  },
  "language_info": {
   "codemirror_mode": {
    "name": "ipython",
    "version": 3
   },
   "file_extension": ".py",
   "mimetype": "text/x-python",
   "name": "python",
   "nbconvert_exporter": "python",
   "pygments_lexer": "ipython3",
   "version": "3.9.11"
  },
  "orig_nbformat": 4
 },
 "nbformat": 4,
 "nbformat_minor": 2
}
